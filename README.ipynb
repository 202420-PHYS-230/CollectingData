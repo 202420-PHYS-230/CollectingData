{
 "cells": [
  {
   "cell_type": "markdown",
   "metadata": {},
   "source": [
    "# Collecting Data\n",
    "\n",
    "This course is ultimately about data.\n",
    "\n",
    "1. How do we get data?\n",
    "    * How can we identify the data we need to make decisions?\n",
    "    * How do we design experiments in order to acquire that data?\n",
    "2. How do we validate data?\n",
    "    * How do we know the data we've collected is correct?\n",
    "    * How do we know we've collected the correct data?\n",
    "3. How do we make inferences using data?\n",
    "    * Once we have data, how do we estimate the uncertainty of the data?\n",
    "    * If we use uncertain data to make inferences, how uncertain are those inferences?\n",
    "\n",
    "Of course these questions make sense in any situation where we're dealing with empirical data, in this class we'll be working in the context of learning how to design experiements and collecting data using microcontrollers and electronic circuits.\n",
    "\n",
    "The goal this week is to use a microcontroller to measure some of the characteristics of a circuit.\n",
    "\n",
    "The circuit we'll be using is this one:\n",
    "\n",
    "![divider circuit](https://raw.githubusercontent.com/202420-PHYS-230/CollectingData/refs/heads/main/images/divider.png)\n",
    "\n"
   ]
  },
  {
   "cell_type": "code",
   "execution_count": null,
   "metadata": {},
   "outputs": [],
   "source": []
  }
 ],
 "metadata": {
  "kernelspec": {
   "display_name": "base",
   "language": "python",
   "name": "python3"
  },
  "language_info": {
   "codemirror_mode": {
    "name": "ipython",
    "version": 3
   },
   "file_extension": ".py",
   "mimetype": "text/x-python",
   "name": "python",
   "nbconvert_exporter": "python",
   "pygments_lexer": "ipython3",
   "version": "3.12.8"
  }
 },
 "nbformat": 4,
 "nbformat_minor": 2
}
